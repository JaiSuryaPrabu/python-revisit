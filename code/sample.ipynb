{
 "cells": [
  {
   "cell_type": "markdown",
   "metadata": {},
   "source": [
    "# Decorators"
   ]
  },
  {
   "cell_type": "code",
   "execution_count": 4,
   "metadata": {},
   "outputs": [
    {
     "name": "stdout",
     "output_type": "stream",
     "text": [
      "The name of the function is func\n",
      "The argument is Hello world\n"
     ]
    }
   ],
   "source": [
    "# decorator function\n",
    "def about(function):\n",
    "    def wrap(*args):\n",
    "        print(f\"The name of the function is {function.__name__}\")\n",
    "        return function(*args)\n",
    "    return wrap\n",
    "\n",
    "@about\n",
    "def func(x):\n",
    "    print(f\"The argument is {x}\")\n",
    "\n",
    "func(\"Hello world\")"
   ]
  },
  {
   "cell_type": "code",
   "execution_count": 16,
   "metadata": {},
   "outputs": [
    {
     "name": "stdout",
     "output_type": "stream",
     "text": [
      "The function name is `func`\n",
      "The arguments are : (3,)\n",
      "The Keyword arguments are : {}\n",
      "The function name is `func`\n",
      "The arguments are : ()\n",
      "The Keyword arguments are : {'x': 3}\n",
      "The function name is `<lambda>`\n",
      "The arguments are : ()\n",
      "The Keyword arguments are : {'x': 4}\n",
      "16\n"
     ]
    }
   ],
   "source": [
    "# the decorator\n",
    "def about_args(function):\n",
    "    def wrap(*args,**kwargs):\n",
    "        print(f\"The function name is `{function.__name__}`\")\n",
    "        print(f\"The arguments are : {args}\")\n",
    "        print(f\"The Keyword arguments are : {kwargs}\")\n",
    "        return function(*args,**kwargs)\n",
    "    return wrap\n",
    "\n",
    "# normal function\n",
    "@about_args\n",
    "def func(x):\n",
    "    return x ** 2\n",
    "# function call with args\n",
    "func(3)\n",
    "# function call with keywords\n",
    "func(x=3)\n",
    "\n",
    "# lambda function\n",
    "print((about_args(lambda x: x ** 2)(x=4)))"
   ]
  },
  {
   "cell_type": "code",
   "execution_count": 17,
   "metadata": {},
   "outputs": [
    {
     "name": "stdout",
     "output_type": "stream",
     "text": [
      "The function name is `<lambda>`\n",
      "The arguments are : (0,)\n",
      "The Keyword arguments are : {}\n",
      "The function name is `<lambda>`\n",
      "The arguments are : (1,)\n",
      "The Keyword arguments are : {}\n",
      "The function name is `<lambda>`\n",
      "The arguments are : (2,)\n",
      "The Keyword arguments are : {}\n"
     ]
    },
    {
     "data": {
      "text/plain": [
       "[2, 3, 4]"
      ]
     },
     "execution_count": 17,
     "metadata": {},
     "output_type": "execute_result"
    }
   ],
   "source": [
    "list(map(about_args(lambda x: x+2),range(3)))"
   ]
  },
  {
   "cell_type": "code",
   "execution_count": null,
   "metadata": {},
   "outputs": [],
   "source": [
    "import functools\n",
    "\n",
    "def decorator(function):\n",
    "    @functools.wraps(function)\n",
    "    def wrapper(*args,**kwargs):\n",
    "        # execute the function\n",
    "        return function(*args,**kwargs)\n",
    "    return wrapper\n",
    "\n",
    "@decorator\n",
    "def sample_fun():\n",
    "    print(\"Hello World\")"
   ]
  }
 ],
 "metadata": {
  "kernelspec": {
   "display_name": "venv",
   "language": "python",
   "name": "python3"
  },
  "language_info": {
   "codemirror_mode": {
    "name": "ipython",
    "version": 3
   },
   "file_extension": ".py",
   "mimetype": "text/x-python",
   "name": "python",
   "nbconvert_exporter": "python",
   "pygments_lexer": "ipython3",
   "version": "3.11.4"
  },
  "orig_nbformat": 4
 },
 "nbformat": 4,
 "nbformat_minor": 2
}
