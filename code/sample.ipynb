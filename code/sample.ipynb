{
 "cells": [
  {
   "cell_type": "markdown",
   "metadata": {},
   "source": [
    "# Decorators"
   ]
  },
  {
   "cell_type": "code",
   "execution_count": 4,
   "metadata": {},
   "outputs": [
    {
     "name": "stdout",
     "output_type": "stream",
     "text": [
      "The name of the function is func\n",
      "The argument is Hello world\n"
     ]
    }
   ],
   "source": [
    "# decorator function\n",
    "def about(function):\n",
    "    def wrap(*args):\n",
    "        print(f\"The name of the function is {function.__name__}\")\n",
    "        return function(*args)\n",
    "    return wrap\n",
    "\n",
    "@about\n",
    "def func(x):\n",
    "    print(f\"The argument is {x}\")\n",
    "\n",
    "func(\"Hello world\")"
   ]
  },
  {
   "cell_type": "code",
   "execution_count": 16,
   "metadata": {},
   "outputs": [
    {
     "name": "stdout",
     "output_type": "stream",
     "text": [
      "The function name is `func`\n",
      "The arguments are : (3,)\n",
      "The Keyword arguments are : {}\n",
      "The function name is `func`\n",
      "The arguments are : ()\n",
      "The Keyword arguments are : {'x': 3}\n",
      "The function name is `<lambda>`\n",
      "The arguments are : ()\n",
      "The Keyword arguments are : {'x': 4}\n",
      "16\n"
     ]
    }
   ],
   "source": [
    "# the decorator\n",
    "def about_args(function):\n",
    "    def wrap(*args,**kwargs):\n",
    "        print(f\"The function name is `{function.__name__}`\")\n",
    "        print(f\"The arguments are : {args}\")\n",
    "        print(f\"The Keyword arguments are : {kwargs}\")\n",
    "        return function(*args,**kwargs)\n",
    "    return wrap\n",
    "\n",
    "# normal function\n",
    "@about_args\n",
    "def func(x):\n",
    "    return x ** 2\n",
    "# function call with args\n",
    "func(3)\n",
    "# function call with keywords\n",
    "func(x=3)\n",
    "\n",
    "# lambda function\n",
    "print((about_args(lambda x: x ** 2)(x=4)))"
   ]
  },
  {
   "cell_type": "code",
   "execution_count": 17,
   "metadata": {},
   "outputs": [
    {
     "name": "stdout",
     "output_type": "stream",
     "text": [
      "The function name is `<lambda>`\n",
      "The arguments are : (0,)\n",
      "The Keyword arguments are : {}\n",
      "The function name is `<lambda>`\n",
      "The arguments are : (1,)\n",
      "The Keyword arguments are : {}\n",
      "The function name is `<lambda>`\n",
      "The arguments are : (2,)\n",
      "The Keyword arguments are : {}\n"
     ]
    },
    {
     "data": {
      "text/plain": [
       "[2, 3, 4]"
      ]
     },
     "execution_count": 17,
     "metadata": {},
     "output_type": "execute_result"
    }
   ],
   "source": [
    "list(map(about_args(lambda x: x+2),range(3)))"
   ]
  },
  {
   "cell_type": "code",
   "execution_count": 7,
   "metadata": {},
   "outputs": [],
   "source": [
    "import functools\n",
    "\n",
    "def decorator(function):\n",
    "    @functools.wraps(function)\n",
    "    def wrapper(*args,**kwargs):\n",
    "        # execute the function\n",
    "        return function(*args,**kwargs)\n",
    "    return wrapper\n",
    "\n",
    "@decorator\n",
    "def sample_fun():\n",
    "    print(\"Hello World\")"
   ]
  },
  {
   "cell_type": "markdown",
   "metadata": {},
   "source": [
    "# Iter"
   ]
  },
  {
   "cell_type": "code",
   "execution_count": 2,
   "metadata": {},
   "outputs": [
    {
     "name": "stdout",
     "output_type": "stream",
     "text": [
      "Hello World\n",
      "Hello World\n",
      "Hello World\n"
     ]
    }
   ],
   "source": [
    "# basic while loop\n",
    "i = 0\n",
    "while i < 3:\n",
    "    print(\"Hello World\")\n",
    "    i += 1"
   ]
  },
  {
   "cell_type": "code",
   "execution_count": 3,
   "metadata": {},
   "outputs": [
    {
     "name": "stdout",
     "output_type": "stream",
     "text": [
      "Hello World\n",
      "Hello World\n",
      "Hello World\n"
     ]
    }
   ],
   "source": [
    "# basic for loop \n",
    "for i in range(3):\n",
    "    print(\"Hello World\")"
   ]
  },
  {
   "cell_type": "code",
   "execution_count": 6,
   "metadata": {},
   "outputs": [],
   "source": [
    "# custom iterator\n",
    "class iterator:\n",
    "    def __init__(self,sequence):\n",
    "        self.sequence = sequence\n",
    "        self.index = 0\n",
    "\n",
    "    def __iter__(self):\n",
    "        return self\n",
    "    \n",
    "    # __iter__() needs __next__() method\n",
    "    def __next__(self):\n",
    "        if self.index < len(self.sequence):\n",
    "            value = self.sequence[self.index]\n",
    "            self.index += 1\n",
    "            return value\n",
    "        else:\n",
    "            # stop iteration is must\n",
    "            raise StopIteration\n",
    "    "
   ]
  },
  {
   "cell_type": "code",
   "execution_count": 5,
   "metadata": {},
   "outputs": [
    {
     "name": "stdout",
     "output_type": "stream",
     "text": [
      "1\t2\t3\t4\t5\t"
     ]
    }
   ],
   "source": [
    "# with for loop\n",
    "for i in iterator([1,2,3,4,5]):\n",
    "    print(i,end=\"\\t\")"
   ]
  },
  {
   "cell_type": "code",
   "execution_count": 7,
   "metadata": {},
   "outputs": [
    {
     "name": "stdout",
     "output_type": "stream",
     "text": [
      "1\n",
      "2\n",
      "3\n",
      "4\n"
     ]
    }
   ],
   "source": [
    "# with while loop\n",
    "sq = iterator([1,2,3,4])\n",
    "it = sq.__iter__()\n",
    "while True:\n",
    "    try:\n",
    "        value = it.__next__()\n",
    "    except StopIteration:\n",
    "        break\n",
    "    else:\n",
    "        print(value)"
   ]
  },
  {
   "cell_type": "code",
   "execution_count": 8,
   "metadata": {},
   "outputs": [],
   "source": [
    "# from collections.abc - Abstract Base Class\n",
    "from collections.abc import Iterator\n",
    "\n",
    "# With Iterator there is no need for __iter__() method\n",
    "\n",
    "class squareIter(Iterator):\n",
    "    def __init__(self,seq):\n",
    "        self.seq = seq\n",
    "        self.index = 0\n",
    "\n",
    "    # but __next__() must be included for logical purpose\n",
    "    def __next__(self):\n",
    "        if self.index < len(self.seq):\n",
    "            current = self.seq[self.index] ** 2\n",
    "            self.index += 1\n",
    "            return current\n",
    "        else:\n",
    "            raise StopIteration"
   ]
  },
  {
   "cell_type": "code",
   "execution_count": 2,
   "metadata": {},
   "outputs": [
    {
     "name": "stdout",
     "output_type": "stream",
     "text": [
      "1\t3\t4\t5\t6\t"
     ]
    }
   ],
   "source": [
    "'''\n",
    "There are two generator : generator functions and generator iterators\n",
    "Generator function are functions that contains `yield` statement\n",
    "'''\n",
    "def generator(sequence):\n",
    "    for item in sequence:\n",
    "        yield item\n",
    "\n",
    "for n in generator([1,3,4,5,6]):\n",
    "    print(n,end = \"\\t\")"
   ]
  },
  {
   "cell_type": "code",
   "execution_count": 5,
   "metadata": {},
   "outputs": [
    {
     "name": "stdout",
     "output_type": "stream",
     "text": [
      "<generator object <genexpr> at 0x000002373E843440>\n",
      "1\t2\t3\t4\t5\t"
     ]
    }
   ],
   "source": [
    "# generative expression\n",
    "gen = (item for item in [1,2,3,4,5])\n",
    "print(gen)\n",
    "for i in gen:\n",
    "    print(i,end=\"\\t\")"
   ]
  },
  {
   "cell_type": "code",
   "execution_count": 6,
   "metadata": {},
   "outputs": [
    {
     "data": {
      "text/plain": [
       "[0, 1, 1, 2, 3, 5, 8, 13, 21, 34]"
      ]
     },
     "execution_count": 6,
     "metadata": {},
     "output_type": "execute_result"
    }
   ],
   "source": [
    "# generator function for \"fibonacci series\"\n",
    "def fibo_series(final = 10):\n",
    "    current = 0\n",
    "    next = 1\n",
    "    for _ in range(final):\n",
    "        fib = current\n",
    "        current , next = next , next + current\n",
    "        yield fib\n",
    "\n",
    "list(fibo_series())"
   ]
  },
  {
   "cell_type": "code",
   "execution_count": 9,
   "metadata": {},
   "outputs": [
    {
     "name": "stdout",
     "output_type": "stream",
     "text": [
      "1\t4\t16\t25\t"
     ]
    }
   ],
   "source": [
    "# gen function is more memory efficient than comprehension\n",
    "# The main drawback in iterator is :\n",
    "' Once the iterator is fully completed then the new instantiation is required'\n",
    "# for eg\n",
    "sq_it = squareIter([1,2,4,5])\n",
    "for i in sq_it:\n",
    "    print(i,end='\\t')\n",
    "\n",
    "for i in sq_it:\n",
    "    # this print statement doesn't work at all\n",
    "    print(i,end=\"\\t\")\n",
    "\n",
    "# solution is to create a new object for the squareIter\n",
    "\n",
    "# there is no slicing , indexing "
   ]
  },
  {
   "cell_type": "code",
   "execution_count": 3,
   "metadata": {},
   "outputs": [],
   "source": [
    "# iterables\n",
    "class iterables:\n",
    "    def __init__(self,sequence):\n",
    "        self.sequence = sequence\n",
    "\n",
    "    def __iter__(self):\n",
    "        return iterables(self)\n",
    "    \n",
    "    # no need of next() in iterables"
   ]
  },
  {
   "cell_type": "code",
   "execution_count": null,
   "metadata": {},
   "outputs": [],
   "source": [
    "# all iterators are iterables but all iterables are not iterators"
   ]
  },
  {
   "cell_type": "markdown",
   "metadata": {},
   "source": [
    "## Need to cover"
   ]
  },
  {
   "cell_type": "markdown",
   "metadata": {},
   "source": [
    "### Map() , Filter() , Enumerate(), zip()"
   ]
  },
  {
   "cell_type": "markdown",
   "metadata": {},
   "source": [
    "### Generator function"
   ]
  },
  {
   "cell_type": "markdown",
   "metadata": {},
   "source": [
    "### Parallelism \n",
    "https://realpython.com/python-concurrency/#what-is-parallelism\n",
    "### Concurrency\n",
    "https://realpython.com/python-concurrency/#what-is-concurrency"
   ]
  }
 ],
 "metadata": {
  "kernelspec": {
   "display_name": "venv",
   "language": "python",
   "name": "python3"
  },
  "language_info": {
   "codemirror_mode": {
    "name": "ipython",
    "version": 3
   },
   "file_extension": ".py",
   "mimetype": "text/x-python",
   "name": "python",
   "nbconvert_exporter": "python",
   "pygments_lexer": "ipython3",
   "version": "3.11.4"
  },
  "orig_nbformat": 4
 },
 "nbformat": 4,
 "nbformat_minor": 2
}
